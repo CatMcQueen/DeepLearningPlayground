{
 "cells": [
  {
   "cell_type": "code",
   "execution_count": null,
   "metadata": {
    "collapsed": true
   },
   "outputs": [],
   "source": [
    "class mygru( RNNCell ):\n",
    " \n",
    "    def __init__( self, ??? ):\n",
    "        \n",
    "        pass\n",
    " \n",
    "    @property\n",
    "    def state_size(self):\n",
    "        ### \n",
    "        pass\n",
    " \n",
    "    @property\n",
    "    def output_size(self):\n",
    "        ##\n",
    "        pass\n",
    " \n",
    "    def __call__( self, inputs, state, scope=None ):\n",
    "        xt = \n",
    "        Wz = \n",
    "        Wh = \n",
    "        Wr = \n",
    "        Uz = \n",
    "        Ur =\n",
    "        h_minusone = \n",
    "        br = \n",
    "        bz = \n",
    "        zt = tf.sigmoid(sigmag, (tf.matmul(Wz, xt) + tf.matmul(Uz, h_minusone) + bz))\n",
    "        rt = tf.sigmoid(sigmag, (tf.matmul(Wr, xt) + tf.matmul(Ur, h_minusone) + br))\n",
    "        h_twid = tf.tanh(tf.matmul(Wh, xt) + tf.matmul(Uh, tf.tensordot(rt, h_minusone) + bh))\n",
    "        ht = tf.tensordot(zt,h_minusone) + tf.tensordot((1-zt),  h_twid)\n",
    "        pass"
   ]
  }
 ],
 "metadata": {
  "kernelspec": {
   "display_name": "Python 2",
   "language": "python",
   "name": "python2"
  },
  "language_info": {
   "codemirror_mode": {
    "name": "ipython",
    "version": 2
   },
   "file_extension": ".py",
   "mimetype": "text/x-python",
   "name": "python",
   "nbconvert_exporter": "python",
   "pygments_lexer": "ipython2",
   "version": "2.7.12"
  }
 },
 "nbformat": 4,
 "nbformat_minor": 2
}
