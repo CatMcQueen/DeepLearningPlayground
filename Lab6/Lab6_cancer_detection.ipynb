{
 "cells": [
  {
   "cell_type": "code",
   "execution_count": 1,
   "metadata": {
    "collapsed": false
   },
   "outputs": [
    {
     "name": "stderr",
     "output_type": "stream",
     "text": [
      "100%|██████████| 200/200 [00:53<00:00,  3.61it/s]\n"
     ]
    }
   ],
   "source": [
    "import numpy as np\n",
    "import os\n",
    "from skimage import io, transform\n",
    "from tqdm import trange, tqdm\n",
    "import tensorflow as tf\n",
    "\n",
    "files_in = os.listdir('cancer_data/inputs')\n",
    "files = np.random.choice(files_in, 200 )\n",
    "\n",
    "trd, trl, tstd, tstl = [], [], [], []\n",
    "for f in tqdm(files):\n",
    "    if 'train' in f:\n",
    "        trd.append(transform.resize(io.imread('cancer_data/inputs/' + f), (512,512,3), mode='constant'))\n",
    "        trl.append(transform.resize(io.imread('cancer_data/outputs/' + f), (512,512,3), mode='constant', order=0))\n",
    "    else:\n",
    "        tstd.append(transform.resize(io.imread('cancer_data/inputs/' + f), (512,512,3), mode='constant'))\n",
    "        tstl.append(transform.resize(io.imread('cancer_data/outputs/' + f), (512,512,3), mode='constant', order=0))"
   ]
  },
  {
   "cell_type": "code",
   "execution_count": 2,
   "metadata": {
    "collapsed": false
   },
   "outputs": [],
   "source": [
    "train_data = np.asarray(trd)\n",
    "train_label = np.asarray(trl)\n",
    "train_label = train_label[:,:,:,1]\n",
    "test_data = np.asarray(tstd)\n",
    "test_label = np.asarray(tstl)\n",
    "test_label = test_label[:,:,:,1]"
   ]
  },
  {
   "cell_type": "code",
   "execution_count": 3,
   "metadata": {
    "collapsed": true
   },
   "outputs": [],
   "source": [
    "def whiten_data(inputs):\n",
    "    inputs = (inputs - np.mean(inputs, axis=0)) / np.std(inputs, axis=0)\n",
    "    return inputs"
   ]
  },
  {
   "cell_type": "code",
   "execution_count": 4,
   "metadata": {
    "collapsed": false
   },
   "outputs": [],
   "source": [
    "train_data = whiten_data(train_data)\n",
    "test_data = whiten_data(test_data)"
   ]
  },
  {
   "cell_type": "code",
   "execution_count": 5,
   "metadata": {
    "collapsed": true
   },
   "outputs": [],
   "source": [
    "def conv( x, filter_size=3, stride=1, num_filters=32, is_output=False, name=\"conv\" ):\n",
    "    shape = x.get_shape().as_list()\n",
    "    with tf.name_scope(name) as scope:\n",
    "        W = tf.get_variable(\"conv_{}_W\".format(name), [filter_size, filter_size, x.shape[-1], num_filters], initializer = tf.contrib.layers.variance_scaling_initializer())\n",
    "        B = tf.get_variable(\"conv_{}_B\".format(name), [num_filters], initializer=tf.ones_initializer())\n",
    "        conv = tf.nn.conv2d(x, W, [1, stride, stride, 1] , \"SAME\")\n",
    "        res = tf.nn.bias_add(conv, B)\n",
    "        #print \"conv \", conv.shape, \"res \", res.shape\n",
    "        if not is_output:\n",
    "            res = tf.nn.relu(res)\n",
    "        return res\n",
    "    pass"
   ]
  },
  {
   "cell_type": "code",
   "execution_count": 6,
   "metadata": {
    "collapsed": false
   },
   "outputs": [],
   "source": [
    "f = 'pos_test_000072.png'\n",
    "test_pic = transform.resize(io.imread('cancer_data/inputs/' + f), (512,512,3), mode='constant')\n",
    "test_pic = np.reshape(np.asarray(test_pic), (1,512,512,3))"
   ]
  },
  {
   "cell_type": "code",
   "execution_count": 11,
   "metadata": {
    "collapsed": false
   },
   "outputs": [
    {
     "name": "stderr",
     "output_type": "stream",
     "text": [
      "100%|██████████| 15/15 [48:35<00:00, 194.64s/it]\n"
     ]
    }
   ],
   "source": [
    "import tensorflow as tf \n",
    "import matplotlib.image as image\n",
    "\n",
    "image.rcParams['image.cmap'] = 'gray'\n",
    "\n",
    "c = .0001\n",
    "\n",
    "with tf.Graph().as_default():\n",
    "    input_data = tf.placeholder( tf.float32, [1,512,512,3] )\n",
    "    input_label = tf.placeholder(tf.int64, [512,512])\n",
    "    keep_prob = tf.placeholder(tf.float32)\n",
    "\n",
    "    with tf.name_scope(\"network_topology\") as scope:\n",
    "        c0 = conv(input_data, is_output=True, name=\"c0\") #[1,512,512,64] with input [1,512,512,3]\n",
    "        #c0_1 = tf.nn.dropout(c0, 0.5) #[1,512,512,64]\n",
    "        c1 = conv(c0,num_filters=15, name=\"c1\") #[1,512,512,64] \n",
    "        #c1_1 = tf.nn.dropout(c1, 0.5) #[1,512,512,64]\n",
    "        #c2 = conv(c1_1, num_filters = 10, name=\"c2\") #[1,512,512,64]\n",
    "        c3 = conv(c1, num_filters=2, is_output=True, name=\"c3\") #[1,512,512,2]\n",
    "\n",
    "    with tf.name_scope(\"cross_entropy\") as scope:\n",
    "        cross_entropy = tf.nn.sparse_softmax_cross_entropy_with_logits(labels=tf.reshape(input_label,(1,512,512)), logits=c3)#+h_L2\n",
    "    \n",
    "    with tf.name_scope(\"train_step\") as scope:\n",
    "        train_step = tf.train.AdamOptimizer(learning_rate=c).minimize(cross_entropy)\n",
    "        \n",
    "    with tf.name_scope(\"predict\") as scope:\n",
    "        prediction = tf.argmax(c3, axis=3)\n",
    "        \n",
    "    def accuracy(pred, input_data ):\n",
    "        pred = np.reshape(pred, (512,512))\n",
    "        sub = np.equal(input_data, pred)\n",
    "        accuracy = np.mean(sub.astype(int))\n",
    "        return accuracy\n",
    "        \n",
    "    init = tf.global_variables_initializer()\n",
    "    sess = tf.Session()\n",
    "    writer = tf.summary.FileWriter(\"./tf_lab5\", sess.graph)\n",
    "    sess.run(init)\n",
    "\n",
    "    epochs = 15\n",
    "    prob = .8\n",
    "\n",
    "    logits = []\n",
    "    train_acc = []\n",
    "    test_acc = [] \n",
    "    for ep in tqdm(xrange(epochs)): \n",
    "        im_train_acc = []\n",
    "        im_test_acc = []\n",
    "        for im in xrange(train_label.shape[0]):\n",
    "            _, _, pred = sess.run([cross_entropy, train_step, prediction], feed_dict = {input_data: np.reshape(train_data[im],(1,512,512,3)), input_label: train_label[im], keep_prob: prob })\n",
    "            tr_acc = accuracy(pred, train_label[im])\n",
    "            im_train_acc.append(tr_acc)\n",
    "        train_acc.append(float(sum(im_train_acc))/train_label.shape[0])\n",
    "        for im in xrange(test_label.shape[0]):\n",
    "            _, te_pred = sess.run([cross_entropy, prediction], feed_dict = {input_data: np.reshape(test_data[im],(1,512,512,3)), input_label: test_label[im], keep_prob: prob })\n",
    "            te_acc = accuracy(te_pred, test_label[im])\n",
    "            im_test_acc.append(te_acc)\n",
    "        test_acc.append(float(sum(im_test_acc))/test_label.shape[0])\n",
    "    test_predict = sess.run(prediction, feed_dict = {input_data: np.reshape(test_pic,(1,512,512,3)), input_label: np.reshape(test_pic[:,:,:,1], (512,512)), keep_prob: prob })\n",
    "    image.imsave('test_im.png', np.reshape(test_predict, (512,512)))\n",
    "    sess.close()\n",
    "writer.close()"
   ]
  },
  {
   "cell_type": "code",
   "execution_count": 10,
   "metadata": {
    "collapsed": false
   },
   "outputs": [
    {
     "data": {
      "image/png": "[encoded data removed]",
      "text/plain": [
       "<matplotlib.figure.Figure at 0x12204b310>"
      ]
     },
     "metadata": {},
     "output_type": "display_data"
    }
   ],
   "source": [
    "import matplotlib.pyplot as plt\n",
    "plt.rcParams['image.cmap'] = 'gray'\n",
    "\n",
    "plt.plot(train_acc, label='Training')\n",
    "plt.plot(test_acc, label ='Test')\n",
    "plt.title(\"Accuracy of Test vs Training\")\n",
    "plt.xlabel(\"Number of Epochs\")\n",
    "plt.ylabel(\"Percent Accuracy\")\n",
    "plt.legend(loc='upper left')\n",
    "plt.show()"
   ]
  },
  {
   "cell_type": "code",
   "execution_count": null,
   "metadata": {
    "collapsed": true
   },
   "outputs": [],
   "source": []
  }
 ],
 "metadata": {
  "kernelspec": {
   "display_name": "Python 2",
   "language": "python",
   "name": "python2"
  },
  "language_info": {
   "codemirror_mode": {
    "name": "ipython",
    "version": 2
   },
   "file_extension": ".py",
   "mimetype": "text/x-python",
   "name": "python",
   "nbconvert_exporter": "python",
   "pygments_lexer": "ipython2",
   "version": "2.7.12"
  }
 },
 "nbformat": 4,
 "nbformat_minor": 2
}
