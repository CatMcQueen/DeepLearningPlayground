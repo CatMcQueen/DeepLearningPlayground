{
 "cells": [
  {
   "cell_type": "code",
   "execution_count": 7,
   "metadata": {
    "collapsed": false
   },
   "outputs": [
    {
     "name": "stdout",
     "output_type": "stream",
     "text": [
      "I guess the line is: y = -6.68689750541*x + 1.9840141588\n"
     ]
    }
   ],
   "source": [
    "import tensorflow as tf\n",
    "import numpy as np\n",
    " \n",
    "def noisy_line(x, noise):\n",
    "    return -6.7 * x + 2 + noise\n",
    " \n",
    " \n",
    "class Regression:\n",
    "    def __init__(self):\n",
    "        self.learning_rate = 0.005\n",
    "        self.m = 0.1\n",
    "        self.b = 0.1\n",
    " \n",
    "    def learn(self, datum):\n",
    "        x_hat, target = datum\n",
    "        self.m += self.delta(x_hat, target) * x_hat\n",
    "        self.b += self.delta(x_hat, target) * 1.0\n",
    " \n",
    "    def delta(self, x_hat, target):\n",
    "        net = self.m * x_hat + self.b\n",
    "        return self.learning_rate * (target - net)\n",
    " \n",
    " \n",
    "regresion_model = Regression()\n",
    " \n",
    "for _ in range(1000):\n",
    "    x_hat = np.random.uniform(-10, 10)\n",
    "    noise_hat = np.random.uniform(-1, 1)\n",
    "    y_hat = noisy_line(x_hat, noise_hat)\n",
    " \n",
    "    regresion_model.learn((x_hat, y_hat))\n",
    " \n",
    "print(\"I guess the line is: y = {}*x + {}\".format(regresion_model.m, regresion_model.b))\n"
   ]
  },
  {
   "cell_type": "code",
   "execution_count": 40,
   "metadata": {
    "collapsed": false
   },
   "outputs": [
    {
     "name": "stdout",
     "output_type": "stream",
     "text": [
      "I guess the line is: y = -6.65405082703*x + 2.05412244797\n"
     ]
    }
   ],
   "source": [
    "import tensorflow as tf\n",
    "import tensorboard\n",
    "import numpy as np\n",
    "writer = tf.summary.FileWriter(\"./tf_logsT2\", sess.graph)\n",
    "\n",
    "#delta_w_i = the change function result\n",
    "#c = learning_rate\n",
    "#t = target_val\n",
    "#net = sum_of_weighted_features np.dot(weights, features)\n",
    "#x_i = input features\n",
    "\n",
    "x_hat = tf.placeholder(tf.float32, None)\n",
    "y_hat = tf.placeholder(tf.float32, None)\n",
    "c= tf.constant(0.005, None)\n",
    "m = tf.Variable(0.1, None)\n",
    "b = tf.Variable(0.1, None)\n",
    "\n",
    "net = m * x_hat + b\n",
    "delta_w_i = c * (y_hat - net)\n",
    "m = m.assign(m + delta_w_i* x_hat)\n",
    "b = b.assign(b + delta_w_i)\n",
    "\n",
    "init = tf.global_variables_initializer()\n",
    "sess = tf.Session()\n",
    "sess.run( init )\n",
    "\n",
    "for i in range(1000):\n",
    "    x = np.random.uniform(-10,10)\n",
    "    noise = np.random.uniform(-1,1)\n",
    "    ans_m, ans_b = sess.run([m,b], feed_dict= {x_hat: x, noise_hat: noise, y_hat: -6.7 * x + 2 + noise}) \n",
    "print(\"I guess the line is: y = {}*x + {}\".format(ans_m, ans_b))\n",
    "    \n",
    "\n",
    "writer.close()\n",
    "sess.close()"
   ]
  },
  {
   "cell_type": "code",
   "execution_count": null,
   "metadata": {
    "collapsed": true
   },
   "outputs": [],
   "source": []
  }
 ],
 "metadata": {
  "kernelspec": {
   "display_name": "Python 2",
   "language": "python",
   "name": "python2"
  },
  "language_info": {
   "codemirror_mode": {
    "name": "ipython",
    "version": 2
   },
   "file_extension": ".py",
   "mimetype": "text/x-python",
   "name": "python",
   "nbconvert_exporter": "python",
   "pygments_lexer": "ipython2",
   "version": "2.7.12"
  }
 },
 "nbformat": 4,
 "nbformat_minor": 2
}
