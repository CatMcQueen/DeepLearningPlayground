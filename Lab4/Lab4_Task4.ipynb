{
 "cells": [
  {
   "cell_type": "code",
   "execution_count": 23,
   "metadata": {
    "collapsed": false
   },
   "outputs": [],
   "source": [
    "import pandas as pd\n",
    "df = pd.read_csv('foo.csv', delimiter=',')\n",
    "data = pd.DataFrame.as_matrix(df)\n",
    "x1 = data[:,0]\n",
    "x2 = data[:,1]\n",
    "yy = data[:,2]"
   ]
  },
  {
   "cell_type": "code",
   "execution_count": 31,
   "metadata": {
    "collapsed": false
   },
   "outputs": [
    {
     "name": "stdout",
     "output_type": "stream",
     "text": [
      "I guess beta is: [-2.2992301   4.49365091  9.32915783]\n"
     ]
    }
   ],
   "source": [
    "import tensorflow as tf\n",
    "import tensorboard\n",
    "import numpy as np\n",
    "\n",
    "writer = tf.summary.FileWriter(\"./tf_logsT4\", sess.graph)\n",
    "\n",
    "#beta = change vector\n",
    "#c = learning_rate\n",
    "#y_hat = target_val\n",
    "#net = sum_of_weighted_features\n",
    "#x_hat = input features\n",
    "\n",
    "x_hat = tf.placeholder(tf.float32, shape = [3,])\n",
    "y_hat = tf.placeholder(tf.float32, None)\n",
    "#noise_hat = tf.placeholder(tf.float32, None)\n",
    "c = tf.constant(0.005, None)\n",
    "beta = tf.Variable([0.0, 0.0, 0.0], None)\n",
    "bet = tf.constant([-2.3, 4.5, 9.4])\n",
    "\n",
    "generate_y = tf.reduce_sum(tf.multiply(x_hat, b))\n",
    "\n",
    "#net = tf.matmul(x_hat, tf.reshape(beta, (3,1)), transpose_a = True) + noise_hat\n",
    "#print (x_hat.shape, \"x shape\", beta.shape, \"beta shape\")\n",
    "\n",
    "net = tf.reduce_sum(tf.multiply(x_hat, beta))\n",
    "be = beta.assign(beta + (c * (y_hat - net) * x_hat))\n",
    "\n",
    "init = tf.global_variables_initializer()\n",
    "sess = tf.Session()\n",
    "sess.run( init )\n",
    "\n",
    "for i in range(1000):\n",
    "    x = [x1[i] , x2[i] , 1]\n",
    "    noise = [np.random.uniform(-1,1)]\n",
    "    y = sess.run(generate_y, feed_dict = {x_hat: x})\n",
    "    net_a, ans_beta = sess.run([net, be], feed_dict={x_hat: x, y_hat: y}) \n",
    "\n",
    "b = bet\n",
    "print(\"I guess beta is: {}\".format(ans_beta))\n",
    "#print(\"I guess the line is: y = {}*x + {}\".format(ans_m, ans_b))\n",
    "\n",
    "writer.close()\n",
    "sess.close()"
   ]
  },
  {
   "cell_type": "code",
   "execution_count": null,
   "metadata": {
    "collapsed": true
   },
   "outputs": [],
   "source": []
  }
 ],
 "metadata": {
  "kernelspec": {
   "display_name": "Python 2",
   "language": "python",
   "name": "python2"
  },
  "language_info": {
   "codemirror_mode": {
    "name": "ipython",
    "version": 2
   },
   "file_extension": ".py",
   "mimetype": "text/x-python",
   "name": "python",
   "nbconvert_exporter": "python",
   "pygments_lexer": "ipython2",
   "version": "2.7.12"
  }
 },
 "nbformat": 4,
 "nbformat_minor": 2
}
